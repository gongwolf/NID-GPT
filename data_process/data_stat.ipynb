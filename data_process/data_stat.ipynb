{
 "cells": [
  {
   "cell_type": "code",
   "execution_count": 14,
   "metadata": {},
   "outputs": [
    {
     "name": "stdout",
     "output_type": "stream",
     "text": [
      "(1600000, 78)\n",
      "(400000, 78)\n"
     ]
    }
   ],
   "source": [
    "import pandas as pd \n",
    "\n",
    "df = pd.read_csv('/data/qgong/data/CICDDOS2019/training.csv')\n",
    "print(df.shape)\n",
    "df = pd.read_csv('/data/qgong/data/CICDDOS2019/testing.csv')\n",
    "print(df.shape)"
   ]
  },
  {
   "cell_type": "code",
   "execution_count": null,
   "metadata": {},
   "outputs": [
    {
     "name": "stdout",
     "output_type": "stream",
     "text": [
      "(2032037, 36)\n",
      "(508010, 36)\n"
     ]
    },
    {
     "data": {
      "text/plain": [
       "0          6\n",
       "1          2\n",
       "2          2\n",
       "3          2\n",
       "4          2\n",
       "          ..\n",
       "2032032    2\n",
       "2032033    2\n",
       "2032034    2\n",
       "2032035    2\n",
       "2032036    6\n",
       "Name: label, Length: 2032037, dtype: int64"
      ]
     },
     "execution_count": 16,
     "metadata": {},
     "output_type": "execute_result"
    }
   ],
   "source": [
    "train_df = pd.read_csv('/data/qgong/data/UNSW/training_all_classes.csv')\n",
    "print(train_df.shape)\n",
    "test_df = pd.read_csv('/data/qgong/data/UNSW/testing_all_classes.csv')\n",
    "print(test_df.shape)\n",
    "\n",
    "X_train, y_train = train_df.iloc[:, :-1], train_df.iloc[:, -1]\n",
    "X_test, y_test = test_df.iloc[:, :-1], test_df.iloc[:, -1]\n",
    "\n",
    "y_train.shape"
   ]
  },
  {
   "cell_type": "code",
   "execution_count": 18,
   "metadata": {},
   "outputs": [
    {
     "data": {
      "text/plain": [
       "array([6, 2, 7, 4, 3, 5, 0, 1, 8, 9])"
      ]
     },
     "execution_count": 18,
     "metadata": {},
     "output_type": "execute_result"
    }
   ],
   "source": [
    "y_train.unique()"
   ]
  },
  {
   "cell_type": "code",
   "execution_count": null,
   "metadata": {},
   "outputs": [
    {
     "name": "stdout",
     "output_type": "stream",
     "text": [
      "    Flow Duration   Total Fwd Packets   Total Backward Packets  \\\n",
      "0    9.844066e-01            0.000077                 0.000062   \n",
      "1    1.650000e-06            0.000005                 0.000007   \n",
      "2    1.716667e-06            0.000005                 0.000007   \n",
      "3    3.398833e-04            0.000005                 0.000000   \n",
      "4    8.999999e-07            0.000005                 0.000000   \n",
      "\n",
      "   Total Length of Fwd Packets   Total Length of Bwd Packets  \\\n",
      "0                 8.542636e-05                  8.307231e-06   \n",
      "1                 4.961240e-06                  1.464636e-07   \n",
      "2                 6.356589e-06                  5.156739e-07   \n",
      "3                 9.302326e-07                  0.000000e+00   \n",
      "4                 9.302326e-07                  0.000000e+00   \n",
      "\n",
      "    Fwd Packet Length Max   Fwd Packet Length Min   Fwd Packet Length Mean  \\\n",
      "0                0.016398                0.000000                 0.010308   \n",
      "1                0.001289                0.013763                 0.005388   \n",
      "2                0.001652                0.017634                 0.006903   \n",
      "3                0.000242                0.002581                 0.001010   \n",
      "4                0.000242                0.002581                 0.001010   \n",
      "\n",
      "    Fwd Packet Length Std  Bwd Packet Length Max  ...   min_seg_size_forward  \\\n",
      "0                0.014646               0.073221  ...                    1.0   \n",
      "1                0.000000               0.002458  ...                    1.0   \n",
      "2                0.000000               0.008653  ...                    1.0   \n",
      "3                0.000000               0.000000  ...                    1.0   \n",
      "4                0.000000               0.000000  ...                    1.0   \n",
      "\n",
      "   Active Mean   Active Std   Active Max   Active Min  Idle Mean   Idle Std  \\\n",
      "0     0.002092     0.000924      0.00251     0.001673   0.489167   0.000363   \n",
      "1     0.000000     0.000000      0.00000     0.000000   0.000000   0.000000   \n",
      "2     0.000000     0.000000      0.00000     0.000000   0.000000   0.000000   \n",
      "3     0.000000     0.000000      0.00000     0.000000   0.000000   0.000000   \n",
      "4     0.000000     0.000000      0.00000     0.000000   0.000000   0.000000   \n",
      "\n",
      "    Idle Max   Idle Min  label  \n",
      "0   0.489167   0.489167      0  \n",
      "1   0.000000   0.000000      0  \n",
      "2   0.000000   0.000000      0  \n",
      "3   0.000000   0.000000      0  \n",
      "4   0.000000   0.000000      0  \n",
      "\n",
      "[5 rows x 77 columns]\n"
     ]
    },
    {
     "data": {
      "text/plain": [
       "((2260482, 77),\n",
       " Index([' Flow Duration', ' Total Fwd Packets', ' Total Backward Packets',\n",
       "        'Total Length of Fwd Packets', ' Total Length of Bwd Packets',\n",
       "        ' Fwd Packet Length Max', ' Fwd Packet Length Min',\n",
       "        ' Fwd Packet Length Mean', ' Fwd Packet Length Std',\n",
       "        'Bwd Packet Length Max', ' Bwd Packet Length Min',\n",
       "        ' Bwd Packet Length Mean', ' Bwd Packet Length Std', 'Flow Bytes/s',\n",
       "        ' Flow Packets/s', ' Flow IAT Mean', ' Flow IAT Std', ' Flow IAT Max',\n",
       "        ' Flow IAT Min', 'Fwd IAT Total', ' Fwd IAT Mean', ' Fwd IAT Std',\n",
       "        ' Fwd IAT Max', ' Fwd IAT Min', 'Bwd IAT Total', ' Bwd IAT Mean',\n",
       "        ' Bwd IAT Std', ' Bwd IAT Max', ' Bwd IAT Min', 'Fwd PSH Flags',\n",
       "        ' Bwd PSH Flags', ' Fwd URG Flags', ' Bwd URG Flags',\n",
       "        ' Fwd Header Length', ' Bwd Header Length', 'Fwd Packets/s',\n",
       "        ' Bwd Packets/s', ' Min Packet Length', ' Max Packet Length',\n",
       "        ' Packet Length Mean', ' Packet Length Std', ' Packet Length Variance',\n",
       "        'FIN Flag Count', ' SYN Flag Count', ' RST Flag Count',\n",
       "        ' PSH Flag Count', ' ACK Flag Count', ' URG Flag Count',\n",
       "        ' CWE Flag Count', ' ECE Flag Count', ' Down/Up Ratio',\n",
       "        ' Average Packet Size', ' Avg Fwd Segment Size',\n",
       "        ' Avg Bwd Segment Size', 'Fwd Avg Bytes/Bulk', ' Fwd Avg Packets/Bulk',\n",
       "        ' Fwd Avg Bulk Rate', ' Bwd Avg Bytes/Bulk', ' Bwd Avg Packets/Bulk',\n",
       "        'Bwd Avg Bulk Rate', 'Subflow Fwd Packets', ' Subflow Fwd Bytes',\n",
       "        ' Subflow Bwd Packets', ' Subflow Bwd Bytes', 'Init_Win_bytes_forward',\n",
       "        ' Init_Win_bytes_backward', ' act_data_pkt_fwd',\n",
       "        ' min_seg_size_forward', 'Active Mean', ' Active Std', ' Active Max',\n",
       "        ' Active Min', 'Idle Mean', ' Idle Std', ' Idle Max', ' Idle Min',\n",
       "        'label'],\n",
       "       dtype='object'))"
      ]
     },
     "execution_count": 12,
     "metadata": {},
     "output_type": "execute_result"
    }
   ],
   "source": [
    "df = pd.read_csv('/data/qgong/data/UNSW/train_all_classes.csv')\n",
    "print(df.head())\n",
    "df.shape, df.columns"
   ]
  },
  {
   "cell_type": "code",
   "execution_count": 6,
   "metadata": {},
   "outputs": [],
   "source": [
    "import pandas as pd \n",
    "df = pd.read_csv('/data/qgong/data/UNSW/training_all_classes.csv')\n",
    "# print(df.head())\n"
   ]
  },
  {
   "cell_type": "code",
   "execution_count": 7,
   "metadata": {},
   "outputs": [
    {
     "data": {
      "text/plain": [
       "dur                 float64\n",
       "sbytes              float64\n",
       "dbytes              float64\n",
       "sttl                float64\n",
       "dttl                float64\n",
       "sloss               float64\n",
       "dloss               float64\n",
       "Sload               float64\n",
       "Dload               float64\n",
       "Spkts               float64\n",
       "Dpkts               float64\n",
       "swin                float64\n",
       "dwin                float64\n",
       "stcpb               float64\n",
       "dtcpb               float64\n",
       "smeansz             float64\n",
       "dmeansz             float64\n",
       "trans_depth         float64\n",
       "res_bdy_len         float64\n",
       "Sjit                float64\n",
       "Djit                float64\n",
       "Sintpkt             float64\n",
       "Dintpkt             float64\n",
       "tcprtt              float64\n",
       "synack              float64\n",
       "ackdat              float64\n",
       "is_sm_ips_ports     float64\n",
       "ct_state_ttl        float64\n",
       "ct_srv_src          float64\n",
       "ct_srv_dst          float64\n",
       "ct_dst_ltm          float64\n",
       "ct_src_ltm          float64\n",
       "ct_src_dport_ltm    float64\n",
       "ct_dst_sport_ltm    float64\n",
       "ct_dst_src_ltm      float64\n",
       "label                 int64\n",
       "dtype: object"
      ]
     },
     "execution_count": 7,
     "metadata": {},
     "output_type": "execute_result"
    }
   ],
   "source": [
    "df.dtypes"
   ]
  },
  {
   "cell_type": "code",
   "execution_count": 8,
   "metadata": {},
   "outputs": [
    {
     "data": {
      "text/plain": [
       "0          0.333333\n",
       "1          0.000000\n",
       "2          0.500000\n",
       "3          0.000000\n",
       "4          0.000000\n",
       "             ...   \n",
       "2032032    0.000000\n",
       "2032033    0.000000\n",
       "2032034    0.000000\n",
       "2032035    0.000000\n",
       "2032036    0.333333\n",
       "Name: ct_state_ttl, Length: 2032037, dtype: float64"
      ]
     },
     "execution_count": 8,
     "metadata": {},
     "output_type": "execute_result"
    }
   ],
   "source": [
    "df['ct_state_ttl']"
   ]
  }
 ],
 "metadata": {
  "kernelspec": {
   "display_name": "nidgpt",
   "language": "python",
   "name": "python3"
  },
  "language_info": {
   "codemirror_mode": {
    "name": "ipython",
    "version": 3
   },
   "file_extension": ".py",
   "mimetype": "text/x-python",
   "name": "python",
   "nbconvert_exporter": "python",
   "pygments_lexer": "ipython3",
   "version": "3.9.18"
  }
 },
 "nbformat": 4,
 "nbformat_minor": 2
}
