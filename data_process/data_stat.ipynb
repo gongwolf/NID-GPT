{
 "cells": [
  {
   "cell_type": "code",
   "execution_count": 14,
   "metadata": {},
   "outputs": [
    {
     "name": "stdout",
     "output_type": "stream",
     "text": [
      "(1600000, 78)\n",
      "(400000, 78)\n"
     ]
    }
   ],
   "source": [
    "import pandas as pd \n",
    "\n",
    "df = pd.read_csv('/data/qgong/data/CICDDOS2019/training.csv')\n",
    "print(df.shape)\n",
    "df = pd.read_csv('/data/qgong/data/CICDDOS2019/testing.csv')\n",
    "print(df.shape)"
   ]
  },
  {
   "cell_type": "code",
   "execution_count": null,
   "metadata": {},
   "outputs": [
    {
     "name": "stdout",
     "output_type": "stream",
     "text": [
      "(2032037, 36)\n",
      "(508010, 36)\n"
     ]
    },
    {
     "data": {
      "text/plain": [
       "0          6\n",
       "1          2\n",
       "2          2\n",
       "3          2\n",
       "4          2\n",
       "          ..\n",
       "2032032    2\n",
       "2032033    2\n",
       "2032034    2\n",
       "2032035    2\n",
       "2032036    6\n",
       "Name: label, Length: 2032037, dtype: int64"
      ]
     },
     "execution_count": 16,
     "metadata": {},
     "output_type": "execute_result"
    }
   ],
   "source": [
    "train_df = pd.read_csv('/data/qgong/data/UNSW/training_all_classes.csv')\n",
    "print(train_df.shape)\n",
    "test_df = pd.read_csv('/data/qgong/data/UNSW/testing_all_classes.csv')\n",
    "print(test_df.shape)\n",
    "\n",
    "X_train, y_train = train_df.iloc[:, :-1], train_df.iloc[:, -1]\n",
    "X_test, y_test = test_df.iloc[:, :-1], test_df.iloc[:, -1]\n",
    "\n",
    "y_train.shape"
   ]
  },
  {
   "cell_type": "code",
   "execution_count": 18,
   "metadata": {},
   "outputs": [
    {
     "data": {
      "text/plain": [
       "array([6, 2, 7, 4, 3, 5, 0, 1, 8, 9])"
      ]
     },
     "execution_count": 18,
     "metadata": {},
     "output_type": "execute_result"
    }
   ],
   "source": [
    "y_train.unique()"
   ]
  },
  {
   "cell_type": "code",
   "execution_count": 9,
   "metadata": {},
   "outputs": [
    {
     "name": "stdout",
     "output_type": "stream",
     "text": [
      "            dur    sbytes    dbytes      sttl      dttl     sloss     dloss  \\\n",
      "0  6.828551e-10  0.000008  0.000000  0.996078  0.000000  0.000000  0.000000   \n",
      "1  8.809285e-05  0.000544  0.001002  0.121569  0.114173  0.005640  0.005811   \n",
      "2  2.088603e-05  0.000070  0.000006  0.243137  0.992126  0.000376  0.000182   \n",
      "3  1.160182e-05  0.000339  0.005619  0.121569  0.114173  0.001316  0.006537   \n",
      "4  5.626953e-06  0.000177  0.001538  0.121569  0.114173  0.001316  0.002542   \n",
      "\n",
      "      Sload     Dload     Spkts  ...  is_sm_ips_ports  ct_state_ttl  \\\n",
      "0  0.012692  0.000000  0.000188  ...              0.0      0.333333   \n",
      "1  0.000013  0.001169  0.011460  ...              0.0      0.000000   \n",
      "2  0.000006  0.000015  0.000564  ...              0.0      0.500000   \n",
      "3  0.000063  0.049613  0.007890  ...              0.0      0.000000   \n",
      "4  0.000067  0.027658  0.003757  ...              0.0      0.000000   \n",
      "\n",
      "   ct_srv_src  ct_srv_dst  ct_dst_ltm  ct_src_ltm  ct_src_dport_ltm  \\\n",
      "0    0.545455    0.545455    0.227273    0.227273          0.227273   \n",
      "1    0.090909    0.045455    0.015152    0.000000          0.000000   \n",
      "2    0.060606    0.045455    0.030303    0.045455          0.030303   \n",
      "3    0.090909    0.106061    0.015152    0.030303          0.000000   \n",
      "4    0.060606    0.045455    0.015152    0.015152          0.000000   \n",
      "\n",
      "   ct_dst_sport_ltm  ct_dst_src_ltm  label  \n",
      "0          0.254237        0.545455      6  \n",
      "1          0.000000        0.030303      2  \n",
      "2          0.000000        0.045455      2  \n",
      "3          0.000000        0.015152      2  \n",
      "4          0.000000        0.015152      2  \n",
      "\n",
      "[5 rows x 36 columns]\n"
     ]
    },
    {
     "data": {
      "text/plain": [
       "((2032037, 36),\n",
       " Index(['dur', 'sbytes', 'dbytes', 'sttl', 'dttl', 'sloss', 'dloss', 'Sload',\n",
       "        'Dload', 'Spkts', 'Dpkts', 'swin', 'dwin', 'stcpb', 'dtcpb', 'smeansz',\n",
       "        'dmeansz', 'trans_depth', 'res_bdy_len', 'Sjit', 'Djit', 'Sintpkt',\n",
       "        'Dintpkt', 'tcprtt', 'synack', 'ackdat', 'is_sm_ips_ports',\n",
       "        'ct_state_ttl', 'ct_srv_src', 'ct_srv_dst', 'ct_dst_ltm', 'ct_src_ltm',\n",
       "        'ct_src_dport_ltm', 'ct_dst_sport_ltm', 'ct_dst_src_ltm', 'label'],\n",
       "       dtype='object'))"
      ]
     },
     "execution_count": 9,
     "metadata": {},
     "output_type": "execute_result"
    }
   ],
   "source": [
    "df = pd.read_csv('/data/qgong/data/UNSW/training_all_classes.csv')\n",
    "print(df.head())\n",
    "df.shape, df.columns"
   ]
  },
  {
   "cell_type": "code",
   "execution_count": 10,
   "metadata": {},
   "outputs": [
    {
     "data": {
      "text/plain": [
       "array([0.33333333, 0.        , 0.5       , 0.16666667, 1.        ,\n",
       "       0.66666667, 0.83333333])"
      ]
     },
     "execution_count": 10,
     "metadata": {},
     "output_type": "execute_result"
    }
   ],
   "source": [
    "df['ct_state_ttl'].unique()"
   ]
  },
  {
   "cell_type": "code",
   "execution_count": 6,
   "metadata": {},
   "outputs": [],
   "source": [
    "import pandas as pd \n",
    "df = pd.read_csv('/data/qgong/data/UNSW/training_all_classes.csv')\n",
    "# print(df.head())\n"
   ]
  },
  {
   "cell_type": "code",
   "execution_count": 7,
   "metadata": {},
   "outputs": [
    {
     "data": {
      "text/plain": [
       "dur                 float64\n",
       "sbytes              float64\n",
       "dbytes              float64\n",
       "sttl                float64\n",
       "dttl                float64\n",
       "sloss               float64\n",
       "dloss               float64\n",
       "Sload               float64\n",
       "Dload               float64\n",
       "Spkts               float64\n",
       "Dpkts               float64\n",
       "swin                float64\n",
       "dwin                float64\n",
       "stcpb               float64\n",
       "dtcpb               float64\n",
       "smeansz             float64\n",
       "dmeansz             float64\n",
       "trans_depth         float64\n",
       "res_bdy_len         float64\n",
       "Sjit                float64\n",
       "Djit                float64\n",
       "Sintpkt             float64\n",
       "Dintpkt             float64\n",
       "tcprtt              float64\n",
       "synack              float64\n",
       "ackdat              float64\n",
       "is_sm_ips_ports     float64\n",
       "ct_state_ttl        float64\n",
       "ct_srv_src          float64\n",
       "ct_srv_dst          float64\n",
       "ct_dst_ltm          float64\n",
       "ct_src_ltm          float64\n",
       "ct_src_dport_ltm    float64\n",
       "ct_dst_sport_ltm    float64\n",
       "ct_dst_src_ltm      float64\n",
       "label                 int64\n",
       "dtype: object"
      ]
     },
     "execution_count": 7,
     "metadata": {},
     "output_type": "execute_result"
    }
   ],
   "source": [
    "df.dtypes"
   ]
  },
  {
   "cell_type": "code",
   "execution_count": 8,
   "metadata": {},
   "outputs": [
    {
     "data": {
      "text/plain": [
       "0          0.333333\n",
       "1          0.000000\n",
       "2          0.500000\n",
       "3          0.000000\n",
       "4          0.000000\n",
       "             ...   \n",
       "2032032    0.000000\n",
       "2032033    0.000000\n",
       "2032034    0.000000\n",
       "2032035    0.000000\n",
       "2032036    0.333333\n",
       "Name: ct_state_ttl, Length: 2032037, dtype: float64"
      ]
     },
     "execution_count": 8,
     "metadata": {},
     "output_type": "execute_result"
    }
   ],
   "source": [
    "df['ct_state_ttl']"
   ]
  }
 ],
 "metadata": {
  "kernelspec": {
   "display_name": "nidgpt",
   "language": "python",
   "name": "python3"
  },
  "language_info": {
   "codemirror_mode": {
    "name": "ipython",
    "version": 3
   },
   "file_extension": ".py",
   "mimetype": "text/x-python",
   "name": "python",
   "nbconvert_exporter": "python",
   "pygments_lexer": "ipython3",
   "version": "3.9.18"
  }
 },
 "nbformat": 4,
 "nbformat_minor": 2
}
