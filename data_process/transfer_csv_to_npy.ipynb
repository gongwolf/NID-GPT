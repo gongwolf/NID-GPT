{
 "cells": [
  {
   "cell_type": "code",
   "execution_count": 5,
   "metadata": {},
   "outputs": [
    {
     "data": {
      "text/plain": [
       "((2032037, 35), (2032037,), (2032037, 36))"
      ]
     },
     "execution_count": 5,
     "metadata": {},
     "output_type": "execute_result"
    }
   ],
   "source": [
    "import pandas as pd\n",
    "import numpy as np\n",
    "\n",
    "# Load the CSV file\n",
    "df = pd.read_csv('/data/qgong/data/UNSW/training_all_classes.csv') \n",
    "\n",
    "X = df.iloc[:, :-1].values  # Features\n",
    "y = df.iloc[:, -1].values\n",
    "\n",
    "X.shape, y.shape, df.shape"
   ]
  },
  {
   "cell_type": "code",
   "execution_count": 6,
   "metadata": {},
   "outputs": [
    {
     "name": "stdout",
     "output_type": "stream",
     "text": [
      "[6 2 7 4 3 5 0 1 8 9] 10\n"
     ]
    }
   ],
   "source": [
    "labels = df.iloc[:, -1].unique()\n",
    "print(labels, len(labels))"
   ]
  },
  {
   "cell_type": "code",
   "execution_count": 12,
   "metadata": {},
   "outputs": [],
   "source": [
    "np.save('/data/qgong/data/UNSW/X_num_train.npy', X)\n",
    "np.save('/data/qgong/data/UNSW/y_train.npy', y)"
   ]
  },
  {
   "cell_type": "code",
   "execution_count": 13,
   "metadata": {},
   "outputs": [],
   "source": [
    "data = pd.read_csv('/data/qgong/data/UNSW/testing_all_classes.csv') \n",
    "data_shuffled = data.sample(frac=1).reset_index(drop=True)\n",
    "X = data_shuffled.iloc[:, :-1].values  # All columns except the last\n",
    "y = data_shuffled.iloc[:, -1].values   # Only the last column\n",
    "\n",
    "# Split into two halves for test and validation\n",
    "half_index = len(data_shuffled) // 2\n",
    "X_test, X_val = X[:half_index], X[half_index:]\n",
    "y_test, y_val = y[:half_index], y[half_index:]"
   ]
  },
  {
   "cell_type": "code",
   "execution_count": 14,
   "metadata": {},
   "outputs": [
    {
     "data": {
      "text/plain": [
       "((254005, 35), (254005, 35), (254005,), (254005,))"
      ]
     },
     "execution_count": 14,
     "metadata": {},
     "output_type": "execute_result"
    }
   ],
   "source": [
    "X_test.shape, X_val.shape, y_test.shape, y_val.shape"
   ]
  },
  {
   "cell_type": "code",
   "execution_count": 15,
   "metadata": {},
   "outputs": [],
   "source": [
    "np.save('/data/qgong/data/UNSW/X_num_test.npy', X_test)\n",
    "np.save('/data/qgong/data/UNSW/X_num_val.npy', X_val)\n",
    "np.save('/data/qgong/data/UNSW/y_test.npy', y_test)\n",
    "np.save('/data/qgong/data/UNSW/y_val.npy', y_val)"
   ]
  }
 ],
 "metadata": {
  "kernelspec": {
   "display_name": "nidgpt",
   "language": "python",
   "name": "python3"
  },
  "language_info": {
   "codemirror_mode": {
    "name": "ipython",
    "version": 3
   },
   "file_extension": ".py",
   "mimetype": "text/x-python",
   "name": "python",
   "nbconvert_exporter": "python",
   "pygments_lexer": "ipython3",
   "version": "3.9.18"
  }
 },
 "nbformat": 4,
 "nbformat_minor": 2
}
