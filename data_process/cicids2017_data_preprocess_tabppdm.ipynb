{
 "cells": [
  {
   "cell_type": "code",
   "execution_count": 1,
   "metadata": {},
   "outputs": [
    {
     "name": "stdout",
     "output_type": "stream",
     "text": [
      "(2260482, 76) (2260482,)\n"
     ]
    },
    {
     "data": {
      "text/plain": [
       "(array([0, 1, 2, 3, 4, 5, 6, 7, 8, 9]),\n",
       " array([1817232,  183889,  126994,  102390,    8253,    6362,    4766,\n",
       "           4604,    4397,    1595]))"
      ]
     },
     "execution_count": 1,
     "metadata": {},
     "output_type": "execute_result"
    }
   ],
   "source": [
    "import numpy as np \n",
    "\n",
    "base_folder = '/data/qgong/data/CICIDS2017'\n",
    "\n",
    "x_feature_train = np.load(base_folder+'/X_train.npy')\n",
    "y_label_train = np.load(base_folder+'/y_train.npy')\n",
    "\n",
    "print(x_feature_train.shape, y_label_train.shape)\n",
    "np.unique(y_label_train, return_counts=True)"
   ]
  },
  {
   "cell_type": "code",
   "execution_count": 2,
   "metadata": {},
   "outputs": [
    {
     "name": "stdout",
     "output_type": "stream",
     "text": [
      "(2260482, 77)\n"
     ]
    }
   ],
   "source": [
    "combined_data = np.hstack((x_feature_train, y_label_train.reshape(-1, 1)))\n",
    "print(combined_data.shape)"
   ]
  },
  {
   "cell_type": "code",
   "execution_count": 3,
   "metadata": {},
   "outputs": [],
   "source": [
    "np.random.shuffle(combined_data)"
   ]
  },
  {
   "cell_type": "code",
   "execution_count": 4,
   "metadata": {},
   "outputs": [
    {
     "name": "stdout",
     "output_type": "stream",
     "text": [
      "(2255961, 76) (2261, 76) (2260, 76) (2255961,) (2261,) (2260,)\n"
     ]
    }
   ],
   "source": [
    "from sklearn.model_selection import train_test_split\n",
    "\n",
    "x = combined_data[:, :-1]\n",
    "y = combined_data[:, -1]\n",
    "\n",
    "# Step 5: Split into train, test, and validation sets\n",
    "X_train, X_temp, y_train, y_temp = train_test_split(x, y, test_size=0.002, random_state=42)  # 98% train, 1% val, 1% test\n",
    "X_val, X_test, y_val, y_test = train_test_split(X_temp, y_temp, test_size=0.5, random_state=42)  \n",
    "\n",
    "print(X_train.shape, X_test.shape, X_val.shape, y_train.shape, y_test.shape, y_val.shape)"
   ]
  },
  {
   "cell_type": "code",
   "execution_count": 5,
   "metadata": {},
   "outputs": [
    {
     "name": "stdout",
     "output_type": "stream",
     "text": [
      "Deleted Folder '/data/qgong/data/CICIDS2017/tab_ppdm_all_cicids2017' before creating!\n",
      "Folder '/data/qgong/data/CICIDS2017/tab_ppdm_all_cicids2017' has been created!\n"
     ]
    }
   ],
   "source": [
    "import os \n",
    "import shutil\n",
    "\n",
    "output_folder = base_folder+\"/tab_ppdm_all_cicids2017\"\n",
    "if os.path.exists(output_folder):\n",
    "        # If it exists, remove it\n",
    "    shutil.rmtree(output_folder)\n",
    "    print(f\"Deleted Folder '{output_folder}' before creating!\")\n",
    "\n",
    "    \n",
    "    # Create a new folder\n",
    "os.makedirs(output_folder)\n",
    "print(f\"Folder '{output_folder}' has been created!\")\n"
   ]
  },
  {
   "cell_type": "code",
   "execution_count": 6,
   "metadata": {},
   "outputs": [],
   "source": [
    "np.save(output_folder+'/X_num_train.npy', X_train)\n",
    "np.save(output_folder+'/y_train.npy', y_train)\n",
    "np.save(output_folder+'/X_num_val.npy', X_val)\n",
    "np.save(output_folder+'/y_val.npy', y_val)\n",
    "np.save(output_folder+'/X_num_test.npy', X_test)\n",
    "np.save(output_folder+'/y_test.npy', y_test)"
   ]
  },
  {
   "cell_type": "markdown",
   "metadata": {},
   "source": [
    "Check generated data"
   ]
  },
  {
   "cell_type": "code",
   "execution_count": 5,
   "metadata": {},
   "outputs": [
    {
     "data": {
      "text/plain": [
       "((2000000, 76), (2000000, 76), (2000000,))"
      ]
     },
     "execution_count": 5,
     "metadata": {},
     "output_type": "execute_result"
    }
   ],
   "source": [
    "import numpy as np \n",
    "\n",
    "x = np.load('/data/qgong/code/NID-GPT/exp/cicids2017_all/ddpm_cb/X_num_train.npy')\n",
    "x_unnorm = np.load('/data/qgong/code/NID-GPT/exp/cicids2017_all/ddpm_cb/X_num_unnorm.npy')\n",
    "y = np.load('/data/qgong/code/NID-GPT/exp/cicids2017_all/ddpm_cb/y_train.npy')\n",
    "\n",
    "\n",
    "x.shape, x_unnorm.shape, y.shape"
   ]
  },
  {
   "cell_type": "code",
   "execution_count": 8,
   "metadata": {},
   "outputs": [
    {
     "name": "stdout",
     "output_type": "stream",
     "text": [
      "[1.41666654e-07 4.55046005e-06 0.00000000e+00 9.30232558e-07\n",
      " 0.00000000e+00 2.41740532e-04 2.58064516e-03 1.01022249e-03\n",
      " 0.00000000e+00 0.00000000e+00 0.00000000e+00 0.00000000e+00\n",
      " 0.00000000e+00 1.13207547e-01 4.16666667e-01 1.41666651e-07\n",
      " 0.00000000e+00 1.41666651e-07 1.41666650e-07 0.00000000e+00\n",
      " 0.00000000e+00 0.00000000e+00 0.00000000e+00 1.33333320e-07\n",
      " 0.00000000e+00 0.00000000e+00 0.00000000e+00 0.00000000e+00\n",
      " 0.00000000e+00 0.00000000e+00 0.00000000e+00 0.00000000e+00\n",
      " 0.00000000e+00 9.99855825e-01 9.94591933e-01 1.66666667e-01\n",
      " 0.00000000e+00 4.14364641e-03 2.41740532e-04 1.79794521e-03\n",
      " 0.00000000e+00 0.00000000e+00 0.00000000e+00 0.00000000e+00\n",
      " 0.00000000e+00 0.00000000e+00 1.00000000e+00 0.00000000e+00\n",
      " 0.00000000e+00 0.00000000e+00 0.00000000e+00 2.31164384e-03\n",
      " 1.01022249e-03 0.00000000e+00 0.00000000e+00 0.00000000e+00\n",
      " 0.00000000e+00 0.00000000e+00 0.00000000e+00 0.00000000e+00\n",
      " 4.55046005e-06 9.32376446e-07 0.00000000e+00 0.00000000e+00\n",
      " 3.84521484e-03 0.00000000e+00 4.68259060e-06 9.99999780e-01\n",
      " 0.00000000e+00 0.00000000e+00 0.00000000e+00 0.00000000e+00\n",
      " 0.00000000e+00 0.00000000e+00 0.00000000e+00 0.00000000e+00]\n",
      "[-1.599334   -0.1530407  -5.19027008 -0.55525436 -5.21297318 -0.57527215\n",
      "  0.21610669 -0.59883766 -5.18175489 -5.23542037 -5.22086633 -5.2226716\n",
      " -5.23426326  1.74285164  1.53568274 -1.55407606 -5.22392467 -1.6284317\n",
      " -0.17824892 -5.22626574 -5.16764097 -5.20711621 -5.23707628  0.25046751\n",
      " -5.18649666 -5.20247755 -5.2063426  -5.19787383 -5.19548111 -5.19390714\n",
      " -5.19860411 -5.19340851 -5.18685246 -0.48114231 -1.38988883  1.54082875\n",
      " -5.19847603  0.23443227 -0.72960613 -0.59856714 -5.17791797 -5.20059884\n",
      " -5.20878143 -5.2061066  -5.19060219 -5.19117044  5.17025068 -5.19521658\n",
      " -5.20190628 -5.1947676  -5.21882393 -0.54931293 -0.60151129 -5.20047267\n",
      " -5.20000216 -5.19449505 -5.19786353 -5.19011037 -5.1882999  -5.19887815\n",
      " -0.13654917 -0.5669904  -5.21969332 -5.20783449  0.00853923 -5.23239899\n",
      "  0.0897613  -0.68183468 -5.18391414 -5.2063091  -5.16769069 -5.18209537\n",
      " -5.17594859 -5.21166968 -5.19042438 -5.17980728]\n"
     ]
    },
    {
     "data": {
      "text/plain": [
       "(array([0, 1, 2, 3, 4, 5, 6, 7, 8, 9]),\n",
       " array([1607790,  162400,  112530,   90667,    7331,    5559,    4195,\n",
       "           4110,    3961,    1457]))"
      ]
     },
     "execution_count": 8,
     "metadata": {},
     "output_type": "execute_result"
    }
   ],
   "source": [
    "print(x[0])\n",
    "print(x_unnorm[0])\n",
    "\n",
    "np.unique(y,return_counts=True)"
   ]
  }
 ],
 "metadata": {
  "kernelspec": {
   "display_name": "nidgpt",
   "language": "python",
   "name": "python3"
  },
  "language_info": {
   "codemirror_mode": {
    "name": "ipython",
    "version": 3
   },
   "file_extension": ".py",
   "mimetype": "text/x-python",
   "name": "python",
   "nbconvert_exporter": "python",
   "pygments_lexer": "ipython3",
   "version": "3.9.18"
  }
 },
 "nbformat": 4,
 "nbformat_minor": 2
}
