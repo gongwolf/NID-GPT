{
 "cells": [
  {
   "cell_type": "code",
   "execution_count": null,
   "metadata": {},
   "outputs": [],
   "source": [
    "from be_great import GReaT\n",
    "import pandas as pd\n",
    "\n",
    "data = pd.read_csv('train_replaced_feature_names.csv')\n",
    "\n",
    "model = GReaT(llm='EleutherAI/gpt-neo-125m',experiment_dir=\"unsw_train\", batch_size=4, epochs=5, save_steps=5000)\n",
    "\n",
    "# llm: HuggingFace checkpoint of a pretrained large language model, used a basis of our model\n",
    "# experiment_dir:  Directory, where the training checkpoints will be saved\n",
    "# epochs: Number of epochs to fine-tune the model\n",
    "# batch_size: Batch size used for fine-tuning\n",
    "# save_steps: save the model after number of steps.\n",
    "\n",
    "# train the model\n",
    "model.fit(data)\n",
    "\n",
    "# save the model\n",
    "\n",
    "model.save(\"unsw_train_5epochs\")\n",
    "\n",
    "# get special ratio of each class\n",
    "synthetic_data = model.sample(n_samples=25000,k=5, max_length=2000,start_col=\"label\", start_col_dist = {'0': 0.06, '1': 0.06, \n",
    "        '2':0.2, '3':0.2, '4':0.2, '5':0.2, '6':0.06, '7':0.02}, device=\"cuda\")\n",
    "\n",
    "# n_samples (int): Number of synthetic samples to generate.\n",
    "\n",
    "# start_col (str, optional): Feature to use as the starting point for the generation process. \n",
    "# Defaults to the target learned during fitting if not provided.\n",
    "\n",
    "# start_col_dist (dict or list, optional): Feature distribution of the starting feature.\n",
    "# Defaults to the target distribution learned during fitting if not provided.\n",
    "\n",
    "# k (int): Sampling batch size. Higher values speed up the generation process.\n",
    "\n",
    "# max_length (int): Maximum number of tokens to generate. Ensure it's long enough to not cut off any information.\n",
    "\n",
    "# get same ratio as the training data \n",
    "# synthetic_data = model.sample(n_samples=25000,k=5, max_length=2000, device=\"cuda\")\n",
    "\n",
    "synthetic_data.to_csv(\"unsw_train_5epochs_generated.csv\", index=False)\n"
   ]
  },
  {
   "cell_type": "code",
   "execution_count": null,
   "metadata": {},
   "outputs": [],
   "source": [
    "from be_great import GReaT\n",
    "import pandas as pd\n",
    "\n",
    "# Load the saved model\n",
    "\n",
    "model = GReaT.load_from_dir(\"unsw_train_5epochs\")\n",
    "\n",
    "\n",
    "synthetic_data = model.sample(n_samples=4500,k=2, max_length=2000,start_col=\"label\", start_col_dist = {'0': 0.33, '1': 0.33, '2':0.34},device=\"cuda\")\n",
    "\n",
    "synthetic_data.to_csv(\"unsw_class018_generated_test.csv\", index=False)\n"
   ]
  }
 ],
 "metadata": {
  "kernelspec": {
   "display_name": "base",
   "language": "python",
   "name": "python3"
  },
  "language_info": {
   "codemirror_mode": {
    "name": "ipython",
    "version": 3
   },
   "file_extension": ".py",
   "mimetype": "text/x-python",
   "name": "python",
   "nbconvert_exporter": "python",
   "pygments_lexer": "ipython3",
   "version": "3.10.9"
  }
 },
 "nbformat": 4,
 "nbformat_minor": 2
}
